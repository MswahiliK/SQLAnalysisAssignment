{
  "nbformat": 4,
  "nbformat_minor": 0,
  "metadata": {
    "colab": {
      "name": "Assignment Data Acquisition with SQL.ipynb",
      "provenance": [],
      "collapsed_sections": [],
      "toc_visible": true
    },
    "kernelspec": {
      "name": "python3",
      "display_name": "Python 3"
    },
    "language_info": {
      "name": "python"
    }
  },
  "cells": [
    {
      "cell_type": "markdown",
      "source": [
        "**ASSIGNMENT DATA AQUISITION WITH SQL**"
      ],
      "metadata": {
        "id": "WEGry4R-P8MI"
      }
    },
    {
      "cell_type": "code",
      "execution_count": null,
      "metadata": {
        "colab": {
          "base_uri": "https://localhost:8080/"
        },
        "id": "OCzquiu1Paen",
        "outputId": "763be45f-03d0-4b8d-d0bf-e86b224a7967"
      },
      "outputs": [
        {
          "output_type": "stream",
          "name": "stdout",
          "text": [
            "The sql extension is already loaded. To reload it, use:\n",
            "  %reload_ext sql\n"
          ]
        }
      ],
      "source": [
        "# Loading the SQL extension\n",
        "# ---\n",
        "%load_ext sql"
      ]
    },
    {
      "cell_type": "code",
      "source": [
        "# Connecting to the in-memory SQLite database Google Colab\n",
        "# ---\n",
        "#  \n",
        "%sql sqlite://"
      ],
      "metadata": {
        "colab": {
          "base_uri": "https://localhost:8080/",
          "height": 35
        },
        "id": "QtSC9Y_nQers",
        "outputId": "45724046-7ba0-4148-cf75-a93f73dbfdda"
      },
      "execution_count": null,
      "outputs": [
        {
          "output_type": "execute_result",
          "data": {
            "application/vnd.google.colaboratory.intrinsic+json": {
              "type": "string"
            },
            "text/plain": [
              "'Connected: @None'"
            ]
          },
          "metadata": {},
          "execution_count": 44
        }
      ]
    },
    {
      "cell_type": "code",
      "source": [
        "# Loading the pandas library\n",
        "# ---\n",
        "#\n",
        "import pandas as pd"
      ],
      "metadata": {
        "id": "4y_HwYBAQleZ"
      },
      "execution_count": null,
      "outputs": []
    },
    {
      "cell_type": "code",
      "source": [
        "T_accidents = pd.read_csv('traffic_accidents.csv') \n",
        "\n",
        "%sql DROP TABLE if EXISTS T_accidents;\n",
        "\n",
        "%sql PERSIST T_accidents;\n",
        "\n",
        "%sql SELECT * FROM T_accidents LIMIT 5;\n",
        "\n"
      ],
      "metadata": {
        "colab": {
          "base_uri": "https://localhost:8080/",
          "height": 375
        },
        "id": "k9xy9BERV4sO",
        "outputId": "9458796e-e311-42ca-c4f8-1a93702b62f2"
      },
      "execution_count": null,
      "outputs": [
        {
          "output_type": "stream",
          "name": "stdout",
          "text": [
            " * sqlite://\n",
            "Done.\n",
            " * sqlite://\n",
            " * sqlite://\n",
            "Done.\n"
          ]
        },
        {
          "output_type": "execute_result",
          "data": {
            "text/html": [
              "<table>\n",
              "    <thead>\n",
              "        <tr>\n",
              "            <th>index</th>\n",
              "            <th>CRASH_DATE</th>\n",
              "            <th>NUM_PASSENGERS</th>\n",
              "            <th>MAKE</th>\n",
              "            <th>MODEL</th>\n",
              "            <th>VEHICLE_YEAR</th>\n",
              "            <th>VEHICLE_TYPE</th>\n",
              "            <th>VEHICLE_DEFECT</th>\n",
              "            <th>TRAVEL_DIRECTION</th>\n",
              "            <th>MANEUVER</th>\n",
              "            <th>OCCUPANT_CNT</th>\n",
              "            <th>EXCEED_SPEED_LIMIT_I</th>\n",
              "            <th>UNIT_TYPE</th>\n",
              "            <th>VEHICLE_USE</th>\n",
              "        </tr>\n",
              "    </thead>\n",
              "    <tbody>\n",
              "        <tr>\n",
              "            <td>0</td>\n",
              "            <td>08/06/2015 06:00:00 PM</td>\n",
              "            <td>None</td>\n",
              "            <td>LINCOLN-CONTINENTAL</td>\n",
              "            <td>MKX</td>\n",
              "            <td>2008.0</td>\n",
              "            <td>PASSENGER</td>\n",
              "            <td>NONE</td>\n",
              "            <td>N</td>\n",
              "            <td>PARKED</td>\n",
              "            <td>0.0</td>\n",
              "            <td>None</td>\n",
              "            <td>PARKED</td>\n",
              "            <td>NOT IN USE</td>\n",
              "        </tr>\n",
              "        <tr>\n",
              "            <td>1</td>\n",
              "            <td>08/10/2015 02:15:00 PM</td>\n",
              "            <td>None</td>\n",
              "            <td>MERCEDES-BENZ</td>\n",
              "            <td>C250</td>\n",
              "            <td>2013.0</td>\n",
              "            <td>PASSENGER</td>\n",
              "            <td>NONE</td>\n",
              "            <td>S</td>\n",
              "            <td>STRAIGHT AHEAD</td>\n",
              "            <td>1.0</td>\n",
              "            <td>None</td>\n",
              "            <td>DRIVER</td>\n",
              "            <td>PERSONAL</td>\n",
              "        </tr>\n",
              "        <tr>\n",
              "            <td>2</td>\n",
              "            <td>08/15/2015 12:10:00 PM</td>\n",
              "            <td>None</td>\n",
              "            <td>MERCEDES-BENZ</td>\n",
              "            <td>GLK220</td>\n",
              "            <td>2015.0</td>\n",
              "            <td>PASSENGER</td>\n",
              "            <td>NONE</td>\n",
              "            <td>E</td>\n",
              "            <td>STRAIGHT AHEAD</td>\n",
              "            <td>1.0</td>\n",
              "            <td>None</td>\n",
              "            <td>DRIVER</td>\n",
              "            <td>OTHER</td>\n",
              "        </tr>\n",
              "        <tr>\n",
              "            <td>3</td>\n",
              "            <td>08/16/2015 07:00:00 PM</td>\n",
              "            <td>5.0</td>\n",
              "            <td>TOYOTA MOTOR COMPANY, LTD.</td>\n",
              "            <td>CAMRY</td>\n",
              "            <td>2014.0</td>\n",
              "            <td>PASSENGER</td>\n",
              "            <td>NONE</td>\n",
              "            <td>W</td>\n",
              "            <td>SLOW/STOP - RIGHT TURN</td>\n",
              "            <td>6.0</td>\n",
              "            <td>None</td>\n",
              "            <td>DRIVER</td>\n",
              "            <td>PERSONAL</td>\n",
              "        </tr>\n",
              "        <tr>\n",
              "            <td>4</td>\n",
              "            <td>08/16/2015 01:45:00 PM</td>\n",
              "            <td>None</td>\n",
              "            <td>LEXUS</td>\n",
              "            <td>RX350</td>\n",
              "            <td>2015.0</td>\n",
              "            <td>SPORT UTILITY VEHICLE (SUV)</td>\n",
              "            <td>NONE</td>\n",
              "            <td>N</td>\n",
              "            <td>PARKED</td>\n",
              "            <td>0.0</td>\n",
              "            <td>None</td>\n",
              "            <td>PARKED</td>\n",
              "            <td>OTHER</td>\n",
              "        </tr>\n",
              "    </tbody>\n",
              "</table>"
            ],
            "text/plain": [
              "[(0, '08/06/2015 06:00:00 PM', None, 'LINCOLN-CONTINENTAL', 'MKX', 2008.0, 'PASSENGER', 'NONE', 'N', 'PARKED', 0.0, None, 'PARKED', 'NOT IN USE'),\n",
              " (1, '08/10/2015 02:15:00 PM', None, 'MERCEDES-BENZ', 'C250', 2013.0, 'PASSENGER', 'NONE', 'S', 'STRAIGHT AHEAD', 1.0, None, 'DRIVER', 'PERSONAL'),\n",
              " (2, '08/15/2015 12:10:00 PM', None, 'MERCEDES-BENZ', 'GLK220', 2015.0, 'PASSENGER', 'NONE', 'E', 'STRAIGHT AHEAD', 1.0, None, 'DRIVER', 'OTHER'),\n",
              " (3, '08/16/2015 07:00:00 PM', 5.0, 'TOYOTA MOTOR COMPANY, LTD.', 'CAMRY', 2014.0, 'PASSENGER', 'NONE', 'W', 'SLOW/STOP - RIGHT TURN', 6.0, None, 'DRIVER', 'PERSONAL'),\n",
              " (4, '08/16/2015 01:45:00 PM', None, 'LEXUS', 'RX350', 2015.0, 'SPORT UTILITY VEHICLE (SUV)', 'NONE', 'N', 'PARKED', 0.0, None, 'PARKED', 'OTHER')]"
            ]
          },
          "metadata": {},
          "execution_count": 71
        }
      ]
    },
    {
      "cell_type": "markdown",
      "source": [
        ""
      ],
      "metadata": {
        "id": "uZVG8Lxyj9LK"
      }
    },
    {
      "cell_type": "code",
      "source": [
        "# Most personal vehicles involved in crashes were traveling towards which direction?\n",
        "#Display a list of 5 makes that had the highest number of crashes?\n",
        "# Assuming all records of models appear as a result of the accident\n",
        "%%sql\n",
        "SELECT MAKE, SUM(MODEL) FROM T_accidents\n",
        "GROUP BY MAKE\n",
        "ORDER BY SUM(MODEL) DESC\n",
        "LIMIT 5 \n",
        "\n"
      ],
      "metadata": {
        "colab": {
          "base_uri": "https://localhost:8080/",
          "height": 97
        },
        "id": "CFs78WiYhLQm",
        "outputId": "bb1c6ae6-586d-4949-d089-319616c32b5a"
      },
      "execution_count": null,
      "outputs": [
        {
          "output_type": "stream",
          "name": "stdout",
          "text": [
            " * sqlite://\n",
            "Done.\n"
          ]
        },
        {
          "output_type": "execute_result",
          "data": {
            "text/html": [
              "<table>\n",
              "    <thead>\n",
              "        <tr>\n",
              "            <th>VEHICLE_USE</th>\n",
              "            <th>TRAVEL_DIRECTION</th>\n",
              "        </tr>\n",
              "    </thead>\n",
              "    <tbody>\n",
              "        <tr>\n",
              "            <td>PERSONAL</td>\n",
              "            <td>W</td>\n",
              "        </tr>\n",
              "    </tbody>\n",
              "</table>"
            ],
            "text/plain": [
              "[('PERSONAL', 'W')]"
            ]
          },
          "metadata": {},
          "execution_count": 54
        }
      ]
    },
    {
      "cell_type": "code",
      "source": [
        "# Most personal vehicles involved in crashes were traveling towards which direction?\n",
        "%%sql\n",
        "SELECT VEHICLE_USE, TRAVEL_DIRECTION, COUNT(TRAVEL_DIRECTION) FROM T_accidents\n",
        "WHERE VEHICLE_USE = 'PERSONAL'\n",
        "GROUP BY TRAVEL_DIRECTION\n",
        "ORDER BY COUNT(TRAVEL_DIRECTION) DESC"
      ],
      "metadata": {
        "colab": {
          "base_uri": "https://localhost:8080/",
          "height": 267
        },
        "id": "wpcaOZdVQUBY",
        "outputId": "e4d9ed8c-c9b7-4a73-d2e4-0d344e436abc"
      },
      "execution_count": null,
      "outputs": [
        {
          "output_type": "stream",
          "name": "stdout",
          "text": [
            " * sqlite://\n",
            "Done.\n"
          ]
        },
        {
          "output_type": "execute_result",
          "data": {
            "text/html": [
              "<table>\n",
              "    <thead>\n",
              "        <tr>\n",
              "            <th>VEHICLE_USE</th>\n",
              "            <th>TRAVEL_DIRECTION</th>\n",
              "            <th>COUNT(TRAVEL_DIRECTION)</th>\n",
              "        </tr>\n",
              "    </thead>\n",
              "    <tbody>\n",
              "        <tr>\n",
              "            <td>PERSONAL</td>\n",
              "            <td>N</td>\n",
              "            <td>1099</td>\n",
              "        </tr>\n",
              "        <tr>\n",
              "            <td>PERSONAL</td>\n",
              "            <td>S</td>\n",
              "            <td>1076</td>\n",
              "        </tr>\n",
              "        <tr>\n",
              "            <td>PERSONAL</td>\n",
              "            <td>W</td>\n",
              "            <td>973</td>\n",
              "        </tr>\n",
              "        <tr>\n",
              "            <td>PERSONAL</td>\n",
              "            <td>E</td>\n",
              "            <td>964</td>\n",
              "        </tr>\n",
              "        <tr>\n",
              "            <td>PERSONAL</td>\n",
              "            <td>UNKNOWN</td>\n",
              "            <td>175</td>\n",
              "        </tr>\n",
              "        <tr>\n",
              "            <td>PERSONAL</td>\n",
              "            <td>SE</td>\n",
              "            <td>73</td>\n",
              "        </tr>\n",
              "        <tr>\n",
              "            <td>PERSONAL</td>\n",
              "            <td>NW</td>\n",
              "            <td>68</td>\n",
              "        </tr>\n",
              "        <tr>\n",
              "            <td>PERSONAL</td>\n",
              "            <td>SW</td>\n",
              "            <td>42</td>\n",
              "        </tr>\n",
              "        <tr>\n",
              "            <td>PERSONAL</td>\n",
              "            <td>NE</td>\n",
              "            <td>36</td>\n",
              "        </tr>\n",
              "    </tbody>\n",
              "</table>"
            ],
            "text/plain": [
              "[('PERSONAL', 'N', 1099),\n",
              " ('PERSONAL', 'S', 1076),\n",
              " ('PERSONAL', 'W', 973),\n",
              " ('PERSONAL', 'E', 964),\n",
              " ('PERSONAL', 'UNKNOWN', 175),\n",
              " ('PERSONAL', 'SE', 73),\n",
              " ('PERSONAL', 'NW', 68),\n",
              " ('PERSONAL', 'SW', 42),\n",
              " ('PERSONAL', 'NE', 36)]"
            ]
          },
          "metadata": {},
          "execution_count": 70
        }
      ]
    },
    {
      "cell_type": "code",
      "source": [
        "#How many passengers were involved in personal cars were in accidents?\n",
        "\n",
        "%%sql\n",
        "SELECT VEHICLE_USE, SUM(NUM_PASSENGERS) FROM T_accidents\n",
        "WHERE VEHICLE_USE = 'PERSONAL'\n",
        "\n"
      ],
      "metadata": {
        "colab": {
          "base_uri": "https://localhost:8080/",
          "height": 97
        },
        "id": "2s_QgIknOT_h",
        "outputId": "59a7b177-0749-457e-c160-ac3a704053d0"
      },
      "execution_count": null,
      "outputs": [
        {
          "output_type": "stream",
          "name": "stdout",
          "text": [
            " * sqlite://\n",
            "Done.\n"
          ]
        },
        {
          "output_type": "execute_result",
          "data": {
            "text/html": [
              "<table>\n",
              "    <thead>\n",
              "        <tr>\n",
              "            <th>VEHICLE_USE</th>\n",
              "            <th>SUM(NUM_PASSENGERS\t)</th>\n",
              "        </tr>\n",
              "    </thead>\n",
              "    <tbody>\n",
              "        <tr>\n",
              "            <td>PERSONAL</td>\n",
              "            <td>1146.0</td>\n",
              "        </tr>\n",
              "    </tbody>\n",
              "</table>"
            ],
            "text/plain": [
              "[('PERSONAL', 1146.0)]"
            ]
          },
          "metadata": {},
          "execution_count": 72
        }
      ]
    },
    {
      "cell_type": "code",
      "source": [
        "#How many passengers were involved in accidents while traveling in personal Sport Utility vehicles?\n",
        "\n",
        "%%sql\n",
        "SELECT VEHICLE_TYPE, SUM(NUM_PASSENGERS\t) FROM T_accidents\n",
        "WHERE VEHICLE_TYPE = 'SPORT UTILITY VEHICLE (SUV)'"
      ],
      "metadata": {
        "colab": {
          "base_uri": "https://localhost:8080/",
          "height": 97
        },
        "id": "ayVFEbSXP2pb",
        "outputId": "75e2d4ce-4a75-4290-d03b-0ad9da8bed14"
      },
      "execution_count": null,
      "outputs": [
        {
          "output_type": "stream",
          "name": "stdout",
          "text": [
            " * sqlite://\n",
            "Done.\n"
          ]
        },
        {
          "output_type": "execute_result",
          "data": {
            "text/html": [
              "<table>\n",
              "    <thead>\n",
              "        <tr>\n",
              "            <th>VEHICLE_TYPE</th>\n",
              "            <th>SUM(NUM_PASSENGERS\t)</th>\n",
              "        </tr>\n",
              "    </thead>\n",
              "    <tbody>\n",
              "        <tr>\n",
              "            <td>SPORT UTILITY VEHICLE (SUV)</td>\n",
              "            <td>256.0</td>\n",
              "        </tr>\n",
              "    </tbody>\n",
              "</table>"
            ],
            "text/plain": [
              "[('SPORT UTILITY VEHICLE (SUV)', 256.0)]"
            ]
          },
          "metadata": {},
          "execution_count": 73
        }
      ]
    },
    {
      "cell_type": "code",
      "source": [
        "#Compute the total number of Mercedez-Benz vehicles involved in accidents while being parked\n",
        "\n",
        "%%sql\n",
        "SELECT MAKE, MANEUVER, SUM(MANEUVER) FROM T_accidents\n",
        "WHERE MAKE = 'MERCEDES-BENZ' AND MANEUVER = 'PARKED' OR 'LEAVING TRAFFIC LANE TO PARK'"
      ],
      "metadata": {
        "colab": {
          "base_uri": "https://localhost:8080/",
          "height": 97
        },
        "id": "kWDE0B_cQcEJ",
        "outputId": "5d61d84b-46a4-4a6c-d01e-40d35117dd86"
      },
      "execution_count": null,
      "outputs": [
        {
          "output_type": "stream",
          "name": "stdout",
          "text": [
            " * sqlite://\n",
            "Done.\n"
          ]
        },
        {
          "output_type": "execute_result",
          "data": {
            "text/html": [
              "<table>\n",
              "    <thead>\n",
              "        <tr>\n",
              "            <th>MAKE</th>\n",
              "            <th>MANEUVER</th>\n",
              "            <th>SUM(MANEUVER)</th>\n",
              "        </tr>\n",
              "    </thead>\n",
              "    <tbody>\n",
              "        <tr>\n",
              "            <td>MERCEDES-BENZ</td>\n",
              "            <td>PARKED</td>\n",
              "            <td>0.0</td>\n",
              "        </tr>\n",
              "    </tbody>\n",
              "</table>"
            ],
            "text/plain": [
              "[('MERCEDES-BENZ', 'PARKED', 0.0)]"
            ]
          },
          "metadata": {},
          "execution_count": 78
        }
      ]
    },
    {
      "cell_type": "code",
      "source": [
        "#Compute the total occupant_count per vehicle count.\n",
        "\n",
        "%%sql\n",
        "SELECT MAKE, SUM(OCCUPANT_CNT) FROM T_accidents\n",
        "GROUP BY MAKE\n",
        "ORDER BY SUM(OCCUPANT_CNT) DESC\n",
        "LIMIT 3\n"
      ],
      "metadata": {
        "id": "FowdIlygR6Gb",
        "colab": {
          "base_uri": "https://localhost:8080/",
          "height": 139
        },
        "outputId": "291b05f8-cec0-437b-ecc3-4b3a8a564141"
      },
      "execution_count": null,
      "outputs": [
        {
          "output_type": "stream",
          "name": "stdout",
          "text": [
            " * sqlite://\n",
            "Done.\n"
          ]
        },
        {
          "output_type": "execute_result",
          "data": {
            "text/html": [
              "<table>\n",
              "    <thead>\n",
              "        <tr>\n",
              "            <th>MAKE</th>\n",
              "            <th>SUM(OCCUPANT_CNT)</th>\n",
              "        </tr>\n",
              "    </thead>\n",
              "    <tbody>\n",
              "        <tr>\n",
              "            <td>CHEVROLET</td>\n",
              "            <td>881.0</td>\n",
              "        </tr>\n",
              "        <tr>\n",
              "            <td>FORD</td>\n",
              "            <td>829.0</td>\n",
              "        </tr>\n",
              "        <tr>\n",
              "            <td>NISSAN</td>\n",
              "            <td>708.0</td>\n",
              "        </tr>\n",
              "    </tbody>\n",
              "</table>"
            ],
            "text/plain": [
              "[('CHEVROLET', 881.0), ('FORD', 829.0), ('NISSAN', 708.0)]"
            ]
          },
          "metadata": {},
          "execution_count": 85
        }
      ]
    },
    {
      "cell_type": "code",
      "source": [
        "#Sort the number of passengers in descending order, by travel direction taking into\n",
        "#account travel direction. Return travel direction and no. of passengers.\n",
        "\n",
        "%%sql\n",
        "SELECT TRAVEL_DIRECTION, SUM(NUM_PASSENGERS) FROM T_accidents\n",
        "GROUP BY TRAVEL_DIRECTION\n",
        "ORDER BY SUM(NUM_PASSENGERS) DESC\n"
      ],
      "metadata": {
        "colab": {
          "base_uri": "https://localhost:8080/",
          "height": 267
        },
        "id": "fqllxdBGWnmD",
        "outputId": "6d142892-c283-43a6-f9cd-a0bdbec5ab35"
      },
      "execution_count": null,
      "outputs": [
        {
          "output_type": "stream",
          "name": "stdout",
          "text": [
            " * sqlite://\n",
            "Done.\n"
          ]
        },
        {
          "output_type": "execute_result",
          "data": {
            "text/html": [
              "<table>\n",
              "    <thead>\n",
              "        <tr>\n",
              "            <th>TRAVEL_DIRECTION</th>\n",
              "            <th>SUM(NUM_PASSENGERS)</th>\n",
              "        </tr>\n",
              "    </thead>\n",
              "    <tbody>\n",
              "        <tr>\n",
              "            <td>N</td>\n",
              "            <td>395.0</td>\n",
              "        </tr>\n",
              "        <tr>\n",
              "            <td>S</td>\n",
              "            <td>389.0</td>\n",
              "        </tr>\n",
              "        <tr>\n",
              "            <td>E</td>\n",
              "            <td>353.0</td>\n",
              "        </tr>\n",
              "        <tr>\n",
              "            <td>W</td>\n",
              "            <td>321.0</td>\n",
              "        </tr>\n",
              "        <tr>\n",
              "            <td>UNKNOWN</td>\n",
              "            <td>42.0</td>\n",
              "        </tr>\n",
              "        <tr>\n",
              "            <td>NW</td>\n",
              "            <td>28.0</td>\n",
              "        </tr>\n",
              "        <tr>\n",
              "            <td>SE</td>\n",
              "            <td>21.0</td>\n",
              "        </tr>\n",
              "        <tr>\n",
              "            <td>NE</td>\n",
              "            <td>19.0</td>\n",
              "        </tr>\n",
              "        <tr>\n",
              "            <td>SW</td>\n",
              "            <td>10.0</td>\n",
              "        </tr>\n",
              "    </tbody>\n",
              "</table>"
            ],
            "text/plain": [
              "[('N', 395.0),\n",
              " ('S', 389.0),\n",
              " ('E', 353.0),\n",
              " ('W', 321.0),\n",
              " ('UNKNOWN', 42.0),\n",
              " ('NW', 28.0),\n",
              " ('SE', 21.0),\n",
              " ('NE', 19.0),\n",
              " ('SW', 10.0)]"
            ]
          },
          "metadata": {},
          "execution_count": 90
        }
      ]
    },
    {
      "cell_type": "code",
      "source": [
        "#Select the top 5 vehicle models involved in the accident with no defect, order them by make, and show their maneuver\n"
      ],
      "metadata": {
        "colab": {
          "base_uri": "https://localhost:8080/",
          "height": 97
        },
        "id": "knn0Z2W-ZF5C",
        "outputId": "d53911ef-0eac-4e2c-d106-8265f53467c6"
      },
      "execution_count": null,
      "outputs": [
        {
          "output_type": "stream",
          "name": "stdout",
          "text": [
            " * sqlite://\n",
            "Done.\n"
          ]
        },
        {
          "output_type": "execute_result",
          "data": {
            "text/html": [
              "<table>\n",
              "    <thead>\n",
              "        <tr>\n",
              "            <th>MODEL</th>\n",
              "            <th>COUNT(MODEL)</th>\n",
              "            <th>COUNT(VEHICLE_DEFECT)</th>\n",
              "            <th>SUM(MANEUVER)</th>\n",
              "        </tr>\n",
              "    </thead>\n",
              "    <tbody>\n",
              "        <tr>\n",
              "            <td>EDGE</td>\n",
              "            <td>4143</td>\n",
              "            <td>4143</td>\n",
              "            <td>0.0</td>\n",
              "        </tr>\n",
              "    </tbody>\n",
              "</table>"
            ],
            "text/plain": [
              "[('EDGE', 4143, 4143, 0.0)]"
            ]
          },
          "metadata": {},
          "execution_count": 98
        }
      ]
    },
    {
      "cell_type": "code",
      "source": [
        "%%sql\n",
        "SELECT MODEL,COUNT(MODEL), MAKE, MANEUVER FROM T_accidents\n",
        "WHERE VEHICLE_DEFECT = 'NONE'\n",
        "GROUP BY MODEL, MANEUVER\n",
        "ORDER BY COUNT(MAKE) DESC\n",
        "LIMIT 20"
      ],
      "metadata": {
        "colab": {
          "base_uri": "https://localhost:8080/",
          "height": 502
        },
        "id": "T2NK2YpIb9Lx",
        "outputId": "d706c83d-5ddc-4a5e-aafa-3a12bb216845"
      },
      "execution_count": null,
      "outputs": [
        {
          "output_type": "stream",
          "name": "stdout",
          "text": [
            " * sqlite://\n",
            "Done.\n"
          ]
        },
        {
          "output_type": "execute_result",
          "data": {
            "text/html": [
              "<table>\n",
              "    <thead>\n",
              "        <tr>\n",
              "            <th>MODEL</th>\n",
              "            <th>COUNT(MODEL)</th>\n",
              "            <th>MAKE</th>\n",
              "            <th>MANEUVER</th>\n",
              "        </tr>\n",
              "    </thead>\n",
              "    <tbody>\n",
              "        <tr>\n",
              "            <td>UNKNOWN</td>\n",
              "            <td>159</td>\n",
              "            <td>CHEVROLET</td>\n",
              "            <td>STRAIGHT AHEAD</td>\n",
              "        </tr>\n",
              "        <tr>\n",
              "            <td>CAMRY</td>\n",
              "            <td>73</td>\n",
              "            <td>TOYOTA</td>\n",
              "            <td>STRAIGHT AHEAD</td>\n",
              "        </tr>\n",
              "        <tr>\n",
              "            <td>NISSAN ALTIMA</td>\n",
              "            <td>54</td>\n",
              "            <td>NISSAN</td>\n",
              "            <td>STRAIGHT AHEAD</td>\n",
              "        </tr>\n",
              "        <tr>\n",
              "            <td>UNKNOWN</td>\n",
              "            <td>53</td>\n",
              "            <td>INFINITI</td>\n",
              "            <td>PARKED</td>\n",
              "        </tr>\n",
              "        <tr>\n",
              "            <td>OTHER (EXPLAIN IN NARRATIVE)</td>\n",
              "            <td>51</td>\n",
              "            <td>FREIGHTLINER CORPORATION</td>\n",
              "            <td>STRAIGHT AHEAD</td>\n",
              "        </tr>\n",
              "        <tr>\n",
              "            <td>COROLLA</td>\n",
              "            <td>44</td>\n",
              "            <td>TOYOTA</td>\n",
              "            <td>STRAIGHT AHEAD</td>\n",
              "        </tr>\n",
              "        <tr>\n",
              "            <td>UNKNOWN</td>\n",
              "            <td>44</td>\n",
              "            <td>MAZDA</td>\n",
              "            <td>SLOW/STOP IN TRAFFIC</td>\n",
              "        </tr>\n",
              "        <tr>\n",
              "            <td>CIVIC</td>\n",
              "            <td>43</td>\n",
              "            <td>HONDA</td>\n",
              "            <td>STRAIGHT AHEAD</td>\n",
              "        </tr>\n",
              "        <tr>\n",
              "            <td>ELANTRA</td>\n",
              "            <td>37</td>\n",
              "            <td>HYUNDAI</td>\n",
              "            <td>STRAIGHT AHEAD</td>\n",
              "        </tr>\n",
              "        <tr>\n",
              "            <td>CRUZE</td>\n",
              "            <td>32</td>\n",
              "            <td>CHEVROLET</td>\n",
              "            <td>STRAIGHT AHEAD</td>\n",
              "        </tr>\n",
              "        <tr>\n",
              "            <td>FUSION</td>\n",
              "            <td>32</td>\n",
              "            <td>FORD</td>\n",
              "            <td>STRAIGHT AHEAD</td>\n",
              "        </tr>\n",
              "        <tr>\n",
              "            <td>IMPALA</td>\n",
              "            <td>32</td>\n",
              "            <td>CHEVROLET</td>\n",
              "            <td>STRAIGHT AHEAD</td>\n",
              "        </tr>\n",
              "        <tr>\n",
              "            <td>SONATA</td>\n",
              "            <td>31</td>\n",
              "            <td>HYUNDAI</td>\n",
              "            <td>STRAIGHT AHEAD</td>\n",
              "        </tr>\n",
              "        <tr>\n",
              "            <td>ACCORD</td>\n",
              "            <td>30</td>\n",
              "            <td>HONDA</td>\n",
              "            <td>STRAIGHT AHEAD</td>\n",
              "        </tr>\n",
              "        <tr>\n",
              "            <td>MALIBU (CHEVELLE)</td>\n",
              "            <td>30</td>\n",
              "            <td>CHEVROLET</td>\n",
              "            <td>STRAIGHT AHEAD</td>\n",
              "        </tr>\n",
              "        <tr>\n",
              "            <td>EQUINOX</td>\n",
              "            <td>29</td>\n",
              "            <td>CHEVROLET</td>\n",
              "            <td>STRAIGHT AHEAD</td>\n",
              "        </tr>\n",
              "        <tr>\n",
              "            <td>ROGUE</td>\n",
              "            <td>28</td>\n",
              "            <td>NISSAN</td>\n",
              "            <td>STRAIGHT AHEAD</td>\n",
              "        </tr>\n",
              "        <tr>\n",
              "            <td>UNKNOWN</td>\n",
              "            <td>26</td>\n",
              "            <td>DODGE</td>\n",
              "            <td>TURNING LEFT</td>\n",
              "        </tr>\n",
              "        <tr>\n",
              "            <td>ESCAPE (SUV)</td>\n",
              "            <td>25</td>\n",
              "            <td>FORD</td>\n",
              "            <td>STRAIGHT AHEAD</td>\n",
              "        </tr>\n",
              "        <tr>\n",
              "            <td>CAMRY</td>\n",
              "            <td>24</td>\n",
              "            <td>TOYOTA</td>\n",
              "            <td>PARKED</td>\n",
              "        </tr>\n",
              "    </tbody>\n",
              "</table>"
            ],
            "text/plain": [
              "[('UNKNOWN', 159, 'CHEVROLET', 'STRAIGHT AHEAD'),\n",
              " ('CAMRY', 73, 'TOYOTA', 'STRAIGHT AHEAD'),\n",
              " ('NISSAN ALTIMA', 54, 'NISSAN', 'STRAIGHT AHEAD'),\n",
              " ('UNKNOWN', 53, 'INFINITI', 'PARKED'),\n",
              " ('OTHER (EXPLAIN IN NARRATIVE)', 51, 'FREIGHTLINER CORPORATION', 'STRAIGHT AHEAD'),\n",
              " ('COROLLA', 44, 'TOYOTA', 'STRAIGHT AHEAD'),\n",
              " ('UNKNOWN', 44, 'MAZDA', 'SLOW/STOP IN TRAFFIC'),\n",
              " ('CIVIC', 43, 'HONDA', 'STRAIGHT AHEAD'),\n",
              " ('ELANTRA', 37, 'HYUNDAI', 'STRAIGHT AHEAD'),\n",
              " ('CRUZE', 32, 'CHEVROLET', 'STRAIGHT AHEAD'),\n",
              " ('FUSION', 32, 'FORD', 'STRAIGHT AHEAD'),\n",
              " ('IMPALA', 32, 'CHEVROLET', 'STRAIGHT AHEAD'),\n",
              " ('SONATA', 31, 'HYUNDAI', 'STRAIGHT AHEAD'),\n",
              " ('ACCORD', 30, 'HONDA', 'STRAIGHT AHEAD'),\n",
              " ('MALIBU (CHEVELLE)', 30, 'CHEVROLET', 'STRAIGHT AHEAD'),\n",
              " ('EQUINOX', 29, 'CHEVROLET', 'STRAIGHT AHEAD'),\n",
              " ('ROGUE', 28, 'NISSAN', 'STRAIGHT AHEAD'),\n",
              " ('UNKNOWN', 26, 'DODGE', 'TURNING LEFT'),\n",
              " ('ESCAPE (SUV)', 25, 'FORD', 'STRAIGHT AHEAD'),\n",
              " ('CAMRY', 24, 'TOYOTA', 'PARKED')]"
            ]
          },
          "metadata": {},
          "execution_count": 116
        }
      ]
    },
    {
      "cell_type": "code",
      "source": [
        "#Which ridesharing vehicles in an accident had the most number of passengers?\n",
        "#Return model, and the number of passengers.\n",
        "\n",
        "%%sql\n",
        "SELECT  MODEL, SUM(NUM_PASSENGERS) FROM T_accidents\n",
        "WHERE VEHICLE_USE = 'RIDESHARE SERVICE'\n",
        "GROUP BY MODEL\n",
        "ORDER BY SUM(NUM_PASSENGERS) DESC"
      ],
      "metadata": {
        "colab": {
          "base_uri": "https://localhost:8080/",
          "height": 844
        },
        "id": "pGsIcLTcfuWk",
        "outputId": "c924517d-912d-4ff9-fa40-448b1987828b"
      },
      "execution_count": null,
      "outputs": [
        {
          "output_type": "stream",
          "name": "stdout",
          "text": [
            " * sqlite://\n",
            "Done.\n"
          ]
        },
        {
          "output_type": "execute_result",
          "data": {
            "text/html": [
              "<table>\n",
              "    <thead>\n",
              "        <tr>\n",
              "            <th>MODEL</th>\n",
              "            <th>SUM(NUM_PASSENGERS)</th>\n",
              "        </tr>\n",
              "    </thead>\n",
              "    <tbody>\n",
              "        <tr>\n",
              "            <td>CAMRY</td>\n",
              "            <td>5.0</td>\n",
              "        </tr>\n",
              "        <tr>\n",
              "            <td>UNKNOWN</td>\n",
              "            <td>5.0</td>\n",
              "        </tr>\n",
              "        <tr>\n",
              "            <td>JETTA</td>\n",
              "            <td>4.0</td>\n",
              "        </tr>\n",
              "        <tr>\n",
              "            <td>COROLLA</td>\n",
              "            <td>3.0</td>\n",
              "        </tr>\n",
              "        <tr>\n",
              "            <td>Optima</td>\n",
              "            <td>3.0</td>\n",
              "        </tr>\n",
              "        <tr>\n",
              "            <td>A4</td>\n",
              "            <td>2.0</td>\n",
              "        </tr>\n",
              "        <tr>\n",
              "            <td>MALIBU (CHEVELLE)</td>\n",
              "            <td>2.0</td>\n",
              "        </tr>\n",
              "        <tr>\n",
              "            <td>ACURA</td>\n",
              "            <td>1.0</td>\n",
              "        </tr>\n",
              "        <tr>\n",
              "            <td>CX-9</td>\n",
              "            <td>1.0</td>\n",
              "        </tr>\n",
              "        <tr>\n",
              "            <td>ELANTRA</td>\n",
              "            <td>1.0</td>\n",
              "        </tr>\n",
              "        <tr>\n",
              "            <td>FLEX</td>\n",
              "            <td>1.0</td>\n",
              "        </tr>\n",
              "        <tr>\n",
              "            <td>MKS</td>\n",
              "            <td>1.0</td>\n",
              "        </tr>\n",
              "        <tr>\n",
              "            <td>OTHER (EXPLAIN IN NARRATIVE)</td>\n",
              "            <td>1.0</td>\n",
              "        </tr>\n",
              "        <tr>\n",
              "            <td>PATRIOT</td>\n",
              "            <td>1.0</td>\n",
              "        </tr>\n",
              "        <tr>\n",
              "            <td>SOUL</td>\n",
              "            <td>1.0</td>\n",
              "        </tr>\n",
              "        <tr>\n",
              "            <td>Trail Blazer</td>\n",
              "            <td>1.0</td>\n",
              "        </tr>\n",
              "        <tr>\n",
              "            <td>VERSA</td>\n",
              "            <td>1.0</td>\n",
              "        </tr>\n",
              "        <tr>\n",
              "            <td>328i</td>\n",
              "            <td>None</td>\n",
              "        </tr>\n",
              "        <tr>\n",
              "            <td>ALTIMA</td>\n",
              "            <td>None</td>\n",
              "        </tr>\n",
              "        <tr>\n",
              "            <td>CX-3</td>\n",
              "            <td>None</td>\n",
              "        </tr>\n",
              "        <tr>\n",
              "            <td>EQUINOX</td>\n",
              "            <td>None</td>\n",
              "        </tr>\n",
              "        <tr>\n",
              "            <td>ESCAPE (SUV)</td>\n",
              "            <td>None</td>\n",
              "        </tr>\n",
              "        <tr>\n",
              "            <td>FOCUS</td>\n",
              "            <td>None</td>\n",
              "        </tr>\n",
              "        <tr>\n",
              "            <td>FUSION</td>\n",
              "            <td>None</td>\n",
              "        </tr>\n",
              "        <tr>\n",
              "            <td>Highlander(beginning vehicle year 2001)</td>\n",
              "            <td>None</td>\n",
              "        </tr>\n",
              "        <tr>\n",
              "            <td>LINCOLN PARK MOBILE HOMES, INC., SHIPSHEWNAN, IN</td>\n",
              "            <td>None</td>\n",
              "        </tr>\n",
              "        <tr>\n",
              "            <td>MDX</td>\n",
              "            <td>None</td>\n",
              "        </tr>\n",
              "        <tr>\n",
              "            <td>NISSAN ALTIMA</td>\n",
              "            <td>None</td>\n",
              "        </tr>\n",
              "        <tr>\n",
              "            <td>OPTIMA / K5</td>\n",
              "            <td>None</td>\n",
              "        </tr>\n",
              "        <tr>\n",
              "            <td>PASSAT</td>\n",
              "            <td>None</td>\n",
              "        </tr>\n",
              "        <tr>\n",
              "            <td>Prius</td>\n",
              "            <td>None</td>\n",
              "        </tr>\n",
              "        <tr>\n",
              "            <td>RANGE ROVER OF NORTH AMERICA</td>\n",
              "            <td>None</td>\n",
              "        </tr>\n",
              "        <tr>\n",
              "            <td>SE-V6</td>\n",
              "            <td>None</td>\n",
              "        </tr>\n",
              "        <tr>\n",
              "            <td>SENTRA (DATSUN AND NISSAN HAVE MERGED)</td>\n",
              "            <td>None</td>\n",
              "        </tr>\n",
              "        <tr>\n",
              "            <td>SONATA</td>\n",
              "            <td>None</td>\n",
              "        </tr>\n",
              "        <tr>\n",
              "            <td>Sportage (sport utility)</td>\n",
              "            <td>None</td>\n",
              "        </tr>\n",
              "    </tbody>\n",
              "</table>"
            ],
            "text/plain": [
              "[('CAMRY', 5.0),\n",
              " ('UNKNOWN', 5.0),\n",
              " ('JETTA', 4.0),\n",
              " ('COROLLA', 3.0),\n",
              " ('Optima', 3.0),\n",
              " ('A4', 2.0),\n",
              " ('MALIBU (CHEVELLE)', 2.0),\n",
              " ('ACURA', 1.0),\n",
              " ('CX-9', 1.0),\n",
              " ('ELANTRA', 1.0),\n",
              " ('FLEX', 1.0),\n",
              " ('MKS', 1.0),\n",
              " ('OTHER (EXPLAIN IN NARRATIVE)', 1.0),\n",
              " ('PATRIOT', 1.0),\n",
              " ('SOUL', 1.0),\n",
              " ('Trail Blazer', 1.0),\n",
              " ('VERSA', 1.0),\n",
              " ('328i', None),\n",
              " ('ALTIMA', None),\n",
              " ('CX-3', None),\n",
              " ('EQUINOX', None),\n",
              " ('ESCAPE (SUV)', None),\n",
              " ('FOCUS', None),\n",
              " ('FUSION', None),\n",
              " ('Highlander(beginning vehicle year 2001)', None),\n",
              " ('LINCOLN PARK MOBILE HOMES, INC., SHIPSHEWNAN, IN', None),\n",
              " ('MDX', None),\n",
              " ('NISSAN ALTIMA', None),\n",
              " ('OPTIMA / K5', None),\n",
              " ('PASSAT', None),\n",
              " ('Prius', None),\n",
              " ('RANGE ROVER OF NORTH AMERICA', None),\n",
              " ('SE-V6', None),\n",
              " ('SENTRA (DATSUN AND NISSAN HAVE MERGED)', None),\n",
              " ('SONATA', None),\n",
              " ('Sportage (sport utility)', None)]"
            ]
          },
          "metadata": {},
          "execution_count": 121
        }
      ]
    }
  ]
}